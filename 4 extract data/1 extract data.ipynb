{
 "cells": [
  {
   "cell_type": "code",
   "execution_count": 1,
   "id": "9da8d04e",
   "metadata": {},
   "outputs": [],
   "source": [
    "import numpy as np\n",
    "import os\n",
    "import datetime\n",
    "import matplotlib.pyplot as plt\n",
    "import pickle"
   ]
  },
  {
   "cell_type": "code",
   "execution_count": 2,
   "id": "c0a1add6",
   "metadata": {},
   "outputs": [
    {
     "name": "stdout",
     "output_type": "stream",
     "text": [
      "adg_443_giop (45524, 1, 3, 3)\t(45524, 9)\t(45524,)\t(45524,)\n",
      "adg_s_giop (45524, 1, 3, 3)\t(45524, 9)\t(45524,)\t(45524,)\n",
      "adg_unc_443_giop (45524, 1, 3, 3)\t(45524, 9)\t(45524,)\t(45524,)\n",
      "aph_443_giop (45524, 1, 3, 3)\t(45524, 9)\t(45524,)\t(45524,)\n",
      "aph_unc_443_giop (45524, 1, 3, 3)\t(45524, 9)\t(45524,)\t(45524,)\n",
      "chlor_a (45524, 1, 3, 3)\t(45524, 9)\t(45524,)\t(45524,)\n",
      "Zeu_lee (45524, 1, 3, 3)\t(45524, 9)\t(45524,)\t(45524,)\n",
      "bbp_s_giop (45524, 1, 3, 3)\t(45524, 9)\t(45524,)\t(45524,)\n",
      "bbp_unc_443_giop (45524, 1, 3, 3)\t(45524, 9)\t(45524,)\t(45524,)\n",
      "bbp_443_giop (45524, 1, 3, 3)\t(45524, 9)\t(45524,)\t(45524,)\n",
      "par (45524, 1, 3, 3)\t(45524, 9)\t(45524,)\t(45524,)\n",
      "Rrs_412 (45524, 1, 3, 3)\t(45524, 9)\t(45524,)\t(45524,)\n",
      "Rrs_443 (45524, 1, 3, 3)\t(45524, 9)\t(45524,)\t(45524,)\n",
      "Rrs_469 (45524, 1, 3, 3)\t(45524, 9)\t(45524,)\t(45524,)\n",
      "Rrs_488 (45524, 1, 3, 3)\t(45524, 9)\t(45524,)\t(45524,)\n",
      "Rrs_531 (45524, 1, 3, 3)\t(45524, 9)\t(45524,)\t(45524,)\n",
      "Rrs_547 (45524, 1, 3, 3)\t(45524, 9)\t(45524,)\t(45524,)\n",
      "Rrs_555 (45524, 1, 3, 3)\t(45524, 9)\t(45524,)\t(45524,)\n",
      "Rrs_645 (45524, 1, 3, 3)\t(45524, 9)\t(45524,)\t(45524,)\n",
      "Rrs_667 (45524, 1, 3, 3)\t(45524, 9)\t(45524,)\t(45524,)\n",
      "Rrs_678 (45524, 1, 3, 3)\t(45524, 9)\t(45524,)\t(45524,)\n",
      "sst (45524, 1, 3, 3)\t(45524, 9)\t(45524,)\t(45524,)\n",
      "a_412_giop (45524, 1, 3, 3)\t(45524, 9)\t(45524,)\t(45524,)\n",
      "a_443_giop (45524, 1, 3, 3)\t(45524, 9)\t(45524,)\t(45524,)\n",
      "a_469_giop (45524, 1, 3, 3)\t(45524, 9)\t(45524,)\t(45524,)\n",
      "a_488_giop (45524, 1, 3, 3)\t(45524, 9)\t(45524,)\t(45524,)\n",
      "a_531_giop (45524, 1, 3, 3)\t(45524, 9)\t(45524,)\t(45524,)\n",
      "a_547_giop (45524, 1, 3, 3)\t(45524, 9)\t(45524,)\t(45524,)\n",
      "a_555_giop (45524, 1, 3, 3)\t(45524, 9)\t(45524,)\t(45524,)\n",
      "a_645_giop (45524, 1, 3, 3)\t(45524, 9)\t(45524,)\t(45524,)\n",
      "a_667_giop (45524, 1, 3, 3)\t(45524, 9)\t(45524,)\t(45524,)\n",
      "a_678_giop (45524, 1, 3, 3)\t(45524, 9)\t(45524,)\t(45524,)\n",
      "bb_412_giop (45524, 1, 3, 3)\t(45524, 9)\t(45524,)\t(45524,)\n",
      "bb_443_giop (45524, 1, 3, 3)\t(45524, 9)\t(45524,)\t(45524,)\n",
      "bb_469_giop (45524, 1, 3, 3)\t(45524, 9)\t(45524,)\t(45524,)\n",
      "bb_488_giop (45524, 1, 3, 3)\t(45524, 9)\t(45524,)\t(45524,)\n",
      "bb_531_giop (45524, 1, 3, 3)\t(45524, 9)\t(45524,)\t(45524,)\n",
      "bb_547_giop (45524, 1, 3, 3)\t(45524, 9)\t(45524,)\t(45524,)\n",
      "bb_555_giop (45524, 1, 3, 3)\t(45524, 9)\t(45524,)\t(45524,)\n",
      "bb_645_giop (45524, 1, 3, 3)\t(45524, 9)\t(45524,)\t(45524,)\n",
      "bb_667_giop (45524, 1, 3, 3)\t(45524, 9)\t(45524,)\t(45524,)\n",
      "bb_678_giop (45524, 1, 3, 3)\t(45524, 9)\t(45524,)\t(45524,)\n"
     ]
    },
    {
     "name": "stderr",
     "output_type": "stream",
     "text": [
      "C:\\Users\\yy\\AppData\\Local\\Temp\\ipykernel_13932\\3476313104.py:22: RuntimeWarning: Mean of empty slice\n",
      "  nan_mean = np.nanmean(flatten,axis=1)\n",
      "C:\\Anaconda3\\lib\\site-packages\\numpy\\lib\\nanfunctions.py:1670: RuntimeWarning: Degrees of freedom <= 0 for slice.\n",
      "  var = nanvar(a, axis=axis, dtype=dtype, out=out, ddof=ddof,\n",
      "C:\\Users\\yy\\AppData\\Local\\Temp\\ipykernel_13932\\3476313104.py:30: RuntimeWarning: Mean of empty slice\n",
      "  cv[var] = np.nanstd(flatten,axis=1)/np.nanmean(flatten,axis=1)\n"
     ]
    }
   ],
   "source": [
    "# 读取采样数据对应的卫星数据\n",
    "# 采样数据45524条，这里读取的是相对应的45524条卫星数据\n",
    "grid,long_name = {},{}\n",
    "path = \"../0 save data/satellite grid data/\"\n",
    "\n",
    "# 读取，保存到grid中\n",
    "files = os.listdir(path)\n",
    "for file in files:\n",
    "    with open(path+file,'rb') as f:\n",
    "        name = file.split(\".\")[0]\n",
    "        short_name =name.split(\"&\")[1]\n",
    "        long_name[short_name] =  name.split(\"&\")[0]\n",
    "        grid[short_name] = pickle.load(f)\n",
    "\n",
    "# 匹配的数据是1*3*3的，也就是一天的时间窗口和3*3的空间窗口\n",
    "cv = {}\n",
    "N,C,L1,L2 = grid[\"sst\"].shape\n",
    "\n",
    "# 对时间窗口和空间窗口进行处理\n",
    "for var in grid:\n",
    "    print(var,grid[var].shape,end=\"\\t\")\n",
    "    \n",
    "    # 展平空间3*3的网格\n",
    "    flatten = grid[var].reshape(N*C,L1*L2)\n",
    "    print(flatten.shape,end=\"\\t\")\n",
    "    \n",
    "    # 求3*3网格的平均值\n",
    "    nan_mean = np.nanmean(flatten,axis=1)\n",
    "    print(nan_mean.shape,end=\"\\t\")\n",
    "    \n",
    "    # vailable data >= 5，有效值数量大于5个\n",
    "    use = np.isnan(flatten).sum(axis=1)<5\n",
    "    \n",
    "    # 这里计算变异系数并保存，由于变异系数是只针对Rrs的，因此在下一步中使用\n",
    "    if var in [\"Rrs_412\",\"Rrs_443\",\"Rrs_469\",\"Rrs_488\",\"Rrs_531\",\"Rrs_547\",\"Rrs_555\"]: \n",
    "        cv[var] = np.nanstd(flatten,axis=1)/np.nanmean(flatten,axis=1)\n",
    "        \n",
    "    \n",
    "    # 有效值大于5个的网络平均值被保存\n",
    "    nan_mean[~use] = np.nan\n",
    "    grid[var] = nan_mean.reshape(N)\n",
    "    print(grid[var].shape)\n",
    "    "
   ]
  },
  {
   "cell_type": "code",
   "execution_count": 3,
   "id": "d476f075",
   "metadata": {},
   "outputs": [
    {
     "name": "stderr",
     "output_type": "stream",
     "text": [
      "C:\\Anaconda3\\lib\\site-packages\\numpy\\lib\\nanfunctions.py:1119: RuntimeWarning: All-NaN slice encountered\n",
      "  r, k = function_base._ureduce(a, func=_nanmedian, axis=axis, out=out,\n"
     ]
    }
   ],
   "source": [
    "# 这一步处理变异系数，只有Rrs变异系数小于0.15的数据才会使用，删除变异系数大于等于0.15的数据\n",
    "cv1 = np.array(list(cv.values()))\n",
    "del_cv = np.nanmedian(cv1,axis=0)>=0.15\n",
    "for var in grid:\n",
    "    grid[var][del_cv] = np.nan"
   ]
  },
  {
   "cell_type": "code",
   "execution_count": 4,
   "id": "f170228b",
   "metadata": {},
   "outputs": [],
   "source": [
    "# case1 的限制\n",
    "# case1 = (grid[\"Rrs_412\"]/grid[\"Rrs_443\"]>=1.0)\n",
    "case1 = ( (grid[\"a_443_giop\"]-grid[\"adg_443_giop\"])/grid[\"a_443_giop\"]>=0.5 )\n",
    "for var in grid:\n",
    "    grid[var][~case1] = np.nan"
   ]
  },
  {
   "cell_type": "code",
   "execution_count": 5,
   "id": "d7eb3855",
   "metadata": {},
   "outputs": [],
   "source": [
    "# case1 的严格限制，做测试时使用的，这里不用，注释了\n",
    "# # RR12 = grid[\"Rrs_412\"]/grid[\"Rrs_443\"]\n",
    "# RR53 = grid[\"Rrs_555\"]/grid[\"Rrs_488\"]\n",
    "\n",
    "# # RR12_cs1 = 0.9351+0.113/RR53-0.0217/(RR53)**2+0.003/(RR53)**2\n",
    "# Rrs555_cs1 = 0.0006+0.0027*RR53-0.0004*(RR53)**2-0.0002*(RR53)**3\n",
    "# nu = 0.5\n",
    "# strict_case1 = ((1-nu)*Rrs555_cs1<grid[\"Rrs_555\"]) & ((1+nu)*Rrs555_cs1>grid[\"Rrs_555\"])\n",
    "# for var in grid:\n",
    "#     grid[var][~strict_case1] = np.nan"
   ]
  },
  {
   "cell_type": "code",
   "execution_count": 6,
   "id": "a7086fa7",
   "metadata": {},
   "outputs": [],
   "source": [
    "# 由于选择输入卫星数据的不同，会产生不一样的数据量。这里控制相同的数据，保证相同的数据量\n",
    "use_satellite_variables = ['adg_443_giop','adg_s_giop','bb_412_giop','bb_443_giop','bb_469_giop','bb_488_giop','bb_531_giop','bb_547_giop','bb_555_giop','bb_645_giop','bb_667_giop','bb_678_giop','a_412_giop','a_443_giop','a_469_giop','a_488_giop','a_531_giop','a_547_giop','a_555_giop','a_645_giop','a_667_giop','a_678_giop','Rrs_412','Rrs_443','Rrs_469','Rrs_488','Rrs_531','Rrs_547','Rrs_555','Rrs_645','Rrs_667','Rrs_678','par','Zeu_lee','chlor_a','sst']\n",
    "\n",
    "nan_data = np.zeros(N,dtype=bool)\n",
    "for var in use_satellite_variables:\n",
    "    nan_data = nan_data|np.isnan(grid[var])\n",
    "for var in grid:\n",
    "    grid[var][nan_data] = np.nan"
   ]
  },
  {
   "cell_type": "code",
   "execution_count": 8,
   "id": "d4b078bc",
   "metadata": {},
   "outputs": [],
   "source": [
    "# 保存数据\n",
    "with open(\"../0 save data/4 extract data.pkl\", 'wb') as f:\n",
    "    pickle.dump([grid, long_name, case1], f)"
   ]
  }
 ],
 "metadata": {
  "celltoolbar": "原始单元格格式",
  "kernelspec": {
   "display_name": "Python 3 (ipykernel)",
   "language": "python",
   "name": "python3"
  },
  "language_info": {
   "codemirror_mode": {
    "name": "ipython",
    "version": 3
   },
   "file_extension": ".py",
   "mimetype": "text/x-python",
   "name": "python",
   "nbconvert_exporter": "python",
   "pygments_lexer": "ipython3",
   "version": "3.9.13"
  }
 },
 "nbformat": 4,
 "nbformat_minor": 5
}
