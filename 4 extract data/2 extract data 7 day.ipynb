{
 "cells": [
  {
   "cell_type": "code",
   "execution_count": 1,
   "id": "9da8d04e",
   "metadata": {},
   "outputs": [],
   "source": [
    "import numpy as np\n",
    "import os\n",
    "import datetime\n",
    "import matplotlib.pyplot as plt\n",
    "import pickle\n",
    "import scipy.io as scio\n",
    "# 与1day的程序步骤相同"
   ]
  },
  {
   "cell_type": "code",
   "execution_count": 2,
   "id": "236c697d",
   "metadata": {},
   "outputs": [],
   "source": [
    "# # grid data\n",
    "# grid,long_name = {},{}\n",
    "# path = \"../0 save data/satellite grid data 7 day/\"\n",
    "\n",
    "# files = os.listdir(path)\n",
    "# for file in files:\n",
    "#     with open(path+file,'rb') as f:\n",
    "#         name = file.split(\".\")[0]\n",
    "#         short_name =name.split(\"&\")[1]\n",
    "#         long_name[short_name] =  name.split(\"&\")[0]\n",
    "#         grid[short_name] = pickle.load(f)"
   ]
  },
  {
   "cell_type": "code",
   "execution_count": 3,
   "id": "f68651b9",
   "metadata": {},
   "outputs": [
    {
     "name": "stdout",
     "output_type": "stream",
     "text": [
      "adg_443_giop (45524, 3, 3, 3)\t(45524, 9)\t(45524,)\t(45524,)\n",
      "adg_s_giop (45524, 3, 3, 3)\t(45524, 9)\t(45524,)\t(45524,)\n",
      "adg_unc_443_giop (45524, 3, 3, 3)\t(45524, 9)\t(45524,)\t(45524,)\n",
      "aph_443_giop (45524, 3, 3, 3)\t(45524, 9)\t(45524,)\t(45524,)\n",
      "aph_unc_443_giop (45524, 3, 3, 3)\t(45524, 9)\t(45524,)\t(45524,)\n",
      "chlor_a (45524, 3, 3, 3)\t(45524, 9)\t(45524,)\t(45524,)\n",
      "Zeu_lee (45524, 3, 3, 3)\t(45524, 9)\t(45524,)\t(45524,)\n",
      "bbp_s_giop (45524, 3, 3, 3)\t(45524, 9)\t(45524,)\t(45524,)\n",
      "bbp_unc_443_giop (45524, 3, 3, 3)\t(45524, 9)\t(45524,)\t(45524,)\n",
      "bbp_443_giop (45524, 3, 3, 3)\t(45524, 9)\t(45524,)\t(45524,)\n",
      "par (45524, 3, 3, 3)\t(45524, 9)\t(45524,)\t(45524,)\n",
      "Rrs_412 (45524, 3, 3, 3)\t"
     ]
    },
    {
     "name": "stderr",
     "output_type": "stream",
     "text": [
      "C:\\Users\\yy\\AppData\\Local\\Temp\\ipykernel_27376\\968787065.py:20: RuntimeWarning: Mean of empty slice\n",
      "  flatten = np.nanmean(grid[var],axis=1).reshape(N,-1)\n",
      "C:\\Users\\yy\\AppData\\Local\\Temp\\ipykernel_27376\\968787065.py:23: RuntimeWarning: Mean of empty slice\n",
      "  nan_mean = np.nanmean(flatten,axis=1)\n"
     ]
    },
    {
     "name": "stdout",
     "output_type": "stream",
     "text": [
      "(45524, 9)\t(45524,)\t(45524,)\n",
      "Rrs_443 (45524, 3, 3, 3)\t(45524, 9)\t(45524,)\t(45524,)\n",
      "Rrs_469 (45524, 3, 3, 3)\t(45524, 9)\t(45524,)\t(45524,)\n",
      "Rrs_488 (45524, 3, 3, 3)\t(45524, 9)\t(45524,)\t(45524,)\n",
      "Rrs_531 (45524, 3, 3, 3)\t(45524, 9)\t(45524,)\t(45524,)\n",
      "Rrs_547 (45524, 3, 3, 3)\t(45524, 9)\t(45524,)\t(45524,)\n",
      "Rrs_555 (45524, 3, 3, 3)\t(45524, 9)\t(45524,)\t(45524,)\n",
      "Rrs_645 (45524, 3, 3, 3)\t(45524, 9)\t(45524,)\t(45524,)\n",
      "Rrs_667 (45524, 3, 3, 3)\t(45524, 9)\t(45524,)\t(45524,)\n",
      "Rrs_678 (45524, 3, 3, 3)\t(45524, 9)\t"
     ]
    },
    {
     "name": "stderr",
     "output_type": "stream",
     "text": [
      "C:\\Anaconda3\\lib\\site-packages\\numpy\\lib\\nanfunctions.py:1670: RuntimeWarning: Degrees of freedom <= 0 for slice.\n",
      "  var = nanvar(a, axis=axis, dtype=dtype, out=out, ddof=ddof,\n",
      "C:\\Users\\yy\\AppData\\Local\\Temp\\ipykernel_27376\\968787065.py:31: RuntimeWarning: Mean of empty slice\n",
      "  cv[var] = np.nanstd(flatten,axis=1)/np.nanmean(flatten,axis=1)\n"
     ]
    },
    {
     "name": "stdout",
     "output_type": "stream",
     "text": [
      "(45524,)\t(45524,)\n",
      "sst (45524, 3, 3, 3)\t(45524, 9)\t(45524,)\t(45524,)\n",
      "a_412_giop (45524, 3, 3, 3)\t(45524, 9)\t(45524,)\t(45524,)\n",
      "a_443_giop (45524, 3, 3, 3)\t(45524, 9)\t(45524,)\t(45524,)\n",
      "a_469_giop (45524, 3, 3, 3)\t(45524, 9)\t(45524,)\t(45524,)\n",
      "a_488_giop (45524, 3, 3, 3)\t(45524, 9)\t(45524,)\t(45524,)\n",
      "a_531_giop (45524, 3, 3, 3)\t(45524, 9)\t(45524,)\t(45524,)\n",
      "a_547_giop (45524, 3, 3, 3)\t(45524, 9)\t(45524,)\t(45524,)\n",
      "a_555_giop (45524, 3, 3, 3)\t(45524, 9)\t(45524,)\t(45524,)\n",
      "a_645_giop (45524, 3, 3, 3)\t(45524, 9)\t(45524,)\t(45524,)\n",
      "a_667_giop (45524, 3, 3, 3)\t(45524, 9)\t(45524,)\t(45524,)\n",
      "a_678_giop (45524, 3, 3, 3)\t(45524, 9)\t(45524,)\t(45524,)\n",
      "bb_412_giop (45524, 3, 3, 3)\t(45524, 9)\t(45524,)\t(45524,)\n",
      "bb_443_giop (45524, 3, 3, 3)\t(45524, 9)\t(45524,)\t(45524,)\n",
      "bb_469_giop (45524, 3, 3, 3)\t(45524, 9)\t(45524,)\t(45524,)\n",
      "bb_488_giop (45524, 3, 3, 3)\t(45524, 9)\t(45524,)\t(45524,)\n",
      "bb_531_giop (45524, 3, 3, 3)\t(45524, 9)\t(45524,)\t(45524,)\n",
      "bb_547_giop (45524, 3, 3, 3)\t(45524, 9)\t(45524,)\t(45524,)\n",
      "bb_555_giop (45524, 3, 3, 3)\t(45524, 9)\t(45524,)\t(45524,)\n",
      "bb_645_giop (45524, 3, 3, 3)\t(45524, 9)\t(45524,)\t(45524,)\n",
      "bb_667_giop (45524, 3, 3, 3)\t(45524, 9)\t(45524,)\t(45524,)\n",
      "bb_678_giop (45524, 3, 3, 3)\t(45524, 9)\t(45524,)\t(45524,)\n"
     ]
    }
   ],
   "source": [
    "# 读取采样数据对应的卫星数据\n",
    "grid,long_name = {},{}\n",
    "path = \"../0 save data/satellite grid data 7 day/\"\n",
    "\n",
    "files = os.listdir(path)\n",
    "for file in files:\n",
    "    with open(path+file,'rb') as f:\n",
    "        name = file.split(\".\")[0]\n",
    "        short_name =name.split(\"&\")[1]\n",
    "        long_name[short_name] =  name.split(\"&\")[0]\n",
    "        grid[short_name] = pickle.load(f)\n",
    "        # grid[short_name] = pickle.load(f)[:,2:5,:,:] # 这样就是3天时间窗口的数据量\n",
    "\n",
    "cv = {}\n",
    "N,C,L1,L2 = grid[\"sst\"].shape\n",
    "\n",
    "for var in grid:\n",
    "    print(var,grid[var].shape,end=\"\\t\")\n",
    "    \n",
    "    flatten = np.nanmean(grid[var],axis=1).reshape(N,-1)\n",
    "    print(flatten.shape,end=\"\\t\")\n",
    "    \n",
    "    nan_mean = np.nanmean(flatten,axis=1)\n",
    "    print(nan_mean.shape,end=\"\\t\")\n",
    "    \n",
    "    # vailable data >= 5\n",
    "    use = np.isnan(flatten).sum(axis=1)<5\n",
    "    \n",
    "    # median cv < 0.15\n",
    "    if var in [\"Rrs_412\",\"Rrs_443\",\"Rrs_469\",\"Rrs_488\",\"Rrs_531\",\"Rrs_547\",\"Rrs_555\"]: \n",
    "        cv[var] = np.nanstd(flatten,axis=1)/np.nanmean(flatten,axis=1)\n",
    "        \n",
    "    \n",
    "    # get data\n",
    "    nan_mean[~use] = np.nan\n",
    "    grid[var] = nan_mean.reshape(N)\n",
    "    print(grid[var].shape)\n",
    "    "
   ]
  },
  {
   "cell_type": "code",
   "execution_count": 4,
   "id": "be39f0d8",
   "metadata": {},
   "outputs": [
    {
     "name": "stderr",
     "output_type": "stream",
     "text": [
      "C:\\Anaconda3\\lib\\site-packages\\numpy\\lib\\nanfunctions.py:1119: RuntimeWarning: All-NaN slice encountered\n",
      "  r, k = function_base._ureduce(a, func=_nanmedian, axis=axis, out=out,\n"
     ]
    }
   ],
   "source": [
    "cv1 = np.array(list(cv.values()))\n",
    "del_cv = np.nanmedian(cv1,axis=0)>=0.15\n",
    "for var in grid:\n",
    "    grid[var][del_cv] = np.nan"
   ]
  },
  {
   "cell_type": "code",
   "execution_count": 5,
   "id": "ca95fc47",
   "metadata": {},
   "outputs": [],
   "source": [
    "# # case1 = (grid[\"Rrs_412\"]/grid[\"Rrs_443\"]>=1.0)\n",
    "case1 = ( (grid[\"a_443_giop\"]-grid[\"adg_443_giop\"])/grid[\"a_443_giop\"]>=0.5 )\n",
    "for var in grid:\n",
    "    grid[var][~case1] = np.nan"
   ]
  },
  {
   "cell_type": "code",
   "execution_count": 6,
   "id": "e4772eb9",
   "metadata": {},
   "outputs": [],
   "source": [
    "# # RR12 = grid[\"Rrs_412\"]/grid[\"Rrs_443\"]\n",
    "# RR53 = grid[\"Rrs_555\"]/grid[\"Rrs_488\"]\n",
    "\n",
    "# # RR12_cs1 = 0.9351+0.113/RR53-0.0217/(RR53)**2+0.003/(RR53)**2\n",
    "# Rrs555_cs1 = 0.0006+0.0027*RR53-0.0004*(RR53)**2-0.0002*(RR53)**3\n",
    "# nu = 0.5\n",
    "# strict_case1 = ((1-nu)*Rrs555_cs1<grid[\"Rrs_555\"]) & ((1+nu)*Rrs555_cs1>grid[\"Rrs_555\"])\n",
    "# for var in grid:\n",
    "#     grid[var][~strict_case1] = np.nan"
   ]
  },
  {
   "cell_type": "code",
   "execution_count": 7,
   "id": "9b40d1dc",
   "metadata": {},
   "outputs": [],
   "source": [
    "use_satellite_variables = ['adg_443_giop','adg_s_giop','bb_412_giop','bb_443_giop','bb_469_giop','bb_488_giop','bb_531_giop','bb_547_giop','bb_555_giop','bb_645_giop','bb_667_giop','bb_678_giop','a_412_giop','a_443_giop','a_469_giop','a_488_giop','a_531_giop','a_547_giop','a_555_giop','a_645_giop','a_667_giop','a_678_giop','Rrs_412','Rrs_443','Rrs_469','Rrs_488','Rrs_531','Rrs_547','Rrs_555','Rrs_645','Rrs_667','Rrs_678','par','Zeu_lee','chlor_a','sst']\n"
   ]
  },
  {
   "cell_type": "code",
   "execution_count": 8,
   "id": "da6663c1",
   "metadata": {},
   "outputs": [],
   "source": [
    "nan_data = np.zeros(N,dtype=bool)\n",
    "for var in use_satellite_variables:\n",
    "    nan_data = nan_data|np.isnan(grid[var])\n",
    "for var in grid:\n",
    "    grid[var][nan_data] = np.nan"
   ]
  },
  {
   "cell_type": "code",
   "execution_count": 9,
   "id": "d4b078bc",
   "metadata": {},
   "outputs": [],
   "source": [
    "with open(\"../0 save data/4 extract data 7 day.pkl\", 'wb') as f:\n",
    "    pickle.dump([grid, long_name,case1], f)"
   ]
  },
  {
   "cell_type": "code",
   "execution_count": null,
   "id": "684b0b5c",
   "metadata": {},
   "outputs": [],
   "source": []
  },
  {
   "cell_type": "code",
   "execution_count": null,
   "id": "d52db618",
   "metadata": {},
   "outputs": [],
   "source": []
  },
  {
   "cell_type": "code",
   "execution_count": null,
   "id": "9dd373b6",
   "metadata": {},
   "outputs": [],
   "source": []
  }
 ],
 "metadata": {
  "kernelspec": {
   "display_name": "Python 3 (ipykernel)",
   "language": "python",
   "name": "python3"
  },
  "language_info": {
   "codemirror_mode": {
    "name": "ipython",
    "version": 3
   },
   "file_extension": ".py",
   "mimetype": "text/x-python",
   "name": "python",
   "nbconvert_exporter": "python",
   "pygments_lexer": "ipython3",
   "version": "3.9.13"
  }
 },
 "nbformat": 4,
 "nbformat_minor": 5
}
